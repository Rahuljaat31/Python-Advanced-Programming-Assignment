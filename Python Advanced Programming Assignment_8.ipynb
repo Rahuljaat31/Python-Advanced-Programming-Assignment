{
 "cells": [
  {
   "cell_type": "markdown",
   "metadata": {},
   "source": [
    "Q1. Given a sentence as txt, return True if any two adjacent words have this property: One word ends with a vowel, while the word immediately after begins with a vowel (a e i o u).\n",
    "\n",
    "Examples\n",
    "\n",
    "vowel_links(\"a very large appliance\") ➞ True\n",
    "\n",
    "vowel_links(\"go to edabit\") ➞ True\n",
    "\n",
    "vowel_links(\"an open fire\") ➞ False\n",
    "\n",
    "vowel_links(\"a sudden applause\") ➞ False"
   ]
  },
  {
   "cell_type": "code",
   "execution_count": 3,
   "metadata": {},
   "outputs": [],
   "source": [
    "#Ans.1 \n",
    "def vowel_links(s):\n",
    "    l = s.split(\" \")\n",
    "    vl = ['a','e','i','o','u']\n",
    "    e,st,res = False, False,False\n",
    "    for i in range(len(l)):\n",
    "        t = True if l[i][-1] in vl else False\n",
    "        st = True if l[i][0] in vl else False\n",
    "        if st == e == True:\n",
    "            res=True\n",
    "            break\n",
    "        e=t\n",
    "    print(f'vowel_links({s}) ➞ {res}')"
   ]
  },
  {
   "cell_type": "code",
   "execution_count": 4,
   "metadata": {},
   "outputs": [
    {
     "name": "stdout",
     "output_type": "stream",
     "text": [
      "vowel_links(a very large appliance) ➞ True\n"
     ]
    }
   ],
   "source": [
    "vowel_links(\"a very large appliance\") "
   ]
  },
  {
   "cell_type": "code",
   "execution_count": 5,
   "metadata": {},
   "outputs": [
    {
     "name": "stdout",
     "output_type": "stream",
     "text": [
      "vowel_links(go to edabit) ➞ True\n"
     ]
    }
   ],
   "source": [
    "vowel_links(\"go to edabit\")"
   ]
  },
  {
   "cell_type": "code",
   "execution_count": 6,
   "metadata": {},
   "outputs": [
    {
     "name": "stdout",
     "output_type": "stream",
     "text": [
      "vowel_links(an open fire) ➞ False\n"
     ]
    }
   ],
   "source": [
    "vowel_links(\"an open fire\")"
   ]
  },
  {
   "cell_type": "code",
   "execution_count": 7,
   "metadata": {},
   "outputs": [
    {
     "name": "stdout",
     "output_type": "stream",
     "text": [
      "vowel_links(a sudden applause) ➞ False\n"
     ]
    }
   ],
   "source": [
    "vowel_links(\"a sudden applause\")"
   ]
  },
  {
   "cell_type": "markdown",
   "metadata": {},
   "source": [
    "Q2. You are given three inputs: a string, one letter, and a second letter. Write a function that returns True if every instance of the first letter occurs before every instance of the second letter.\n",
    "\n",
    "Examples\n",
    "\n",
    "first_before_second(\"a rabbit jumps joyfully\", \"a\", \"j\") ➞ True #Every instance of \"a\" occurs before every instance of \"j\".\n",
    "\n",
    "first_before_second(\"knaves knew about waterfalls\", \"k\", \"w\") ➞ True\n",
    "\n",
    "first_before_second(\"happy birthday\", \"a\", \"y\") ➞ False #The \"a\" in \"birthday\" occurs after the \"y\" in \"happy\".\n",
    "\n",
    "first_before_second(\"precarious kangaroos\", \"k\", \"a\") ➞ False"
   ]
  },
  {
   "cell_type": "code",
   "execution_count": 8,
   "metadata": {},
   "outputs": [],
   "source": [
    "#Ans.2\n",
    "def first_before_second(n,nf,ns):\n",
    "    lf = n.rfind(nf)\n",
    "    fs = n.find(ns)\n",
    "    res = True if lf < fs else False\n",
    "    print(f'first_before_second({n}, {nf}, {ns}) ➞ {res}')"
   ]
  },
  {
   "cell_type": "code",
   "execution_count": 9,
   "metadata": {},
   "outputs": [
    {
     "name": "stdout",
     "output_type": "stream",
     "text": [
      "first_before_second(a rabbit jumps joyfully, a, j) ➞ True\n"
     ]
    }
   ],
   "source": [
    "first_before_second(\"a rabbit jumps joyfully\", \"a\", \"j\") "
   ]
  },
  {
   "cell_type": "code",
   "execution_count": 10,
   "metadata": {},
   "outputs": [
    {
     "name": "stdout",
     "output_type": "stream",
     "text": [
      "first_before_second(knaves knew about waterfalls, k, w) ➞ True\n"
     ]
    }
   ],
   "source": [
    "first_before_second(\"knaves knew about waterfalls\", \"k\", \"w\")"
   ]
  },
  {
   "cell_type": "code",
   "execution_count": 11,
   "metadata": {},
   "outputs": [
    {
     "name": "stdout",
     "output_type": "stream",
     "text": [
      "first_before_second(happy birthday, a, y) ➞ False\n"
     ]
    }
   ],
   "source": [
    "first_before_second(\"happy birthday\", \"a\", \"y\")"
   ]
  },
  {
   "cell_type": "code",
   "execution_count": 12,
   "metadata": {},
   "outputs": [
    {
     "name": "stdout",
     "output_type": "stream",
     "text": [
      "first_before_second(precarious kangaroos, k, a) ➞ False\n"
     ]
    }
   ],
   "source": [
    "first_before_second(\"precarious kangaroos\", \"k\", \"a\")"
   ]
  },
  {
   "cell_type": "markdown",
   "metadata": {},
   "source": [
    "Q3. Create a function that returns the characters from a list or string r on odd or even positions, depending on the specifier s. The specifier will be \"odd\" for items on odd positions (1, 3, 5, ...) and \"even\" for items on even positions (2, 4, 6, ...).\n",
    "\n",
    "Examples\n",
    "\n",
    "     char_at_pos([2, 4, 6, 8, 10], \"even\") ➞ [4, 8] \n",
    "\n",
    "     #4 & 8 occupy the 2nd & 4th positions\n",
    "\n",
    "     char_at_pos(\"EDABIT\", \"odd\") ➞ \"EAI\" \n",
    "     \n",
    "     #\"E\", \"A\" and \"I\" occupy the 1st, 3rd and 5th positions\n",
    "\n",
    "     char_at_pos([\"A\", \"R\", \"B\", \"I\", \"T\", \"R\", \"A\", \"R\", \"I\", \"L\", \"Y\"], \"odd\") ➞ [\"A\", \"B\", \"T\", \"A\", \"I\", \"Y\"]"
   ]
  },
  {
   "cell_type": "code",
   "execution_count": 13,
   "metadata": {},
   "outputs": [],
   "source": [
    "#Ans.3\n",
    "def char_at_pos(il,m):\n",
    "    res = []\n",
    "    for i in range(len(il)):\n",
    "        if m == 'even' and (i+1)%2 == 0:\n",
    "            res.append(il[i])\n",
    "        elif m == 'odd' and (i+1)%2 != 0:\n",
    "            res.append(il[i])            \n",
    "    print(f'char_at_pos{il,m} ➞ {res}')"
   ]
  },
  {
   "cell_type": "code",
   "execution_count": 14,
   "metadata": {},
   "outputs": [
    {
     "name": "stdout",
     "output_type": "stream",
     "text": [
      "char_at_pos([2, 4, 6, 8, 10], 'even') ➞ [4, 8]\n"
     ]
    }
   ],
   "source": [
    " char_at_pos([2, 4, 6, 8, 10], \"even\")"
   ]
  },
  {
   "cell_type": "code",
   "execution_count": 15,
   "metadata": {},
   "outputs": [
    {
     "name": "stdout",
     "output_type": "stream",
     "text": [
      "char_at_pos('EDABIT', 'odd') ➞ ['E', 'A', 'I']\n"
     ]
    }
   ],
   "source": [
    "char_at_pos(\"EDABIT\", \"odd\")"
   ]
  },
  {
   "cell_type": "code",
   "execution_count": 16,
   "metadata": {},
   "outputs": [
    {
     "name": "stdout",
     "output_type": "stream",
     "text": [
      "char_at_pos(['A', 'R', 'B', 'I', 'T', 'R', 'A', 'R', 'I', 'L', 'Y'], 'odd') ➞ ['A', 'B', 'T', 'A', 'I', 'Y']\n"
     ]
    }
   ],
   "source": [
    "char_at_pos([\"A\", \"R\", \"B\", \"I\", \"T\", \"R\", \"A\", \"R\", \"I\", \"L\", \"Y\"], \"odd\")"
   ]
  },
  {
   "cell_type": "markdown",
   "metadata": {},
   "source": [
    "Q4. Write a function that returns the greatest common divisor of all list elements. If the greatest common divisor is 1, return 1.\n",
    "\n",
    "Examples\n",
    "\n",
    "GCD([10, 20, 40]) ➞ 10\n",
    "\n",
    "GCD([1, 2, 3, 100]) ➞ 1\n",
    "\n",
    "GCD([1024, 192, 2048, 512]) ➞ 64"
   ]
  },
  {
   "cell_type": "code",
   "execution_count": 19,
   "metadata": {},
   "outputs": [],
   "source": [
    "#Ans.4 \n",
    "def GCD(il):\n",
    "    sm = min(il)\n",
    "    g = -1\n",
    "    for i in range(1, sm+1):\n",
    "        res = []\n",
    "        for j in il:\n",
    "            res.append(j%i)\n",
    "        if len(set(res)) == 1 and list(set(res))[0] == 0:\n",
    "            g = i\n",
    "    print(f'GCD({il}) ➞ {g}')"
   ]
  },
  {
   "cell_type": "code",
   "execution_count": 20,
   "metadata": {},
   "outputs": [
    {
     "name": "stdout",
     "output_type": "stream",
     "text": [
      "GCD([10, 20, 40]) ➞ 10\n"
     ]
    }
   ],
   "source": [
    "GCD([10, 20, 40])"
   ]
  },
  {
   "cell_type": "code",
   "execution_count": 21,
   "metadata": {},
   "outputs": [
    {
     "name": "stdout",
     "output_type": "stream",
     "text": [
      "GCD([1, 2, 3, 100]) ➞ 1\n"
     ]
    }
   ],
   "source": [
    "GCD([1, 2, 3, 100])"
   ]
  },
  {
   "cell_type": "code",
   "execution_count": 22,
   "metadata": {},
   "outputs": [
    {
     "name": "stdout",
     "output_type": "stream",
     "text": [
      "GCD([1024, 192, 2048, 512]) ➞ 64\n"
     ]
    }
   ],
   "source": [
    "GCD([1024, 192, 2048, 512])"
   ]
  },
  {
   "cell_type": "markdown",
   "metadata": {},
   "source": [
    "Q5. A number/string is a palindrome if the digits/characters are the same when read both forward and backward. Examples include \"racecar\" and 12321. Given a positive number n, check if n or the binary representation of n is palindromic. Return the following:\n",
    "\n",
    "\"Decimal only.\" if only n is a palindrome.\n",
    "\n",
    "\"Binary only.\" if only the binary representation of n is a palindrome.\n",
    "\n",
    "\"Decimal and binary.\" if both are palindromes.\n",
    "\n",
    "\"Neither!\" if neither are palindromes.\n",
    "\n",
    "Examples\n",
    "\n",
    "palindrome_type(1306031) ➞ \"Decimal only.\"\n",
    "\n",
    "    # decimal = 1306031 \n",
    "    \n",
    "    # binary = \"100111110110110101111\"\n",
    "\n",
    "palindrome_type(427787) ➞ \"Binary only.\"\n",
    "\n",
    "    # decimal = 427787 \n",
    "    \n",
    "    # binary = \"1101000011100001011\"\n",
    "\n",
    "palindrome_type(313) ➞ \"Decimal and binary.\"\n",
    "\n",
    "    # decimal = 313\n",
    "\n",
    "    # binary = 100111001\n",
    "\n",
    "palindrome_type(934) ➞ \"Neither!\"\n",
    "\n",
    "    # decimal = 934\n",
    "    # binary = \"1110100110\""
   ]
  },
  {
   "cell_type": "code",
   "execution_count": 23,
   "metadata": {},
   "outputs": [],
   "source": [
    "#Ans.5\n",
    "def palindrome_type(n):\n",
    "    res = None\n",
    "    if str(n) == str(n)[::-1] and str(bin(n)[2:]) == str(bin(n)[2:])[::-1]:\n",
    "        res = 'Decimal and binary.'\n",
    "    elif str(n) == str(n)[::-1] and str(bin(n)[2:]) != str(bin(n)[2:])[::-1]:\n",
    "        res = 'Decimal only.'\n",
    "    elif str(bin(n)[2:]) != str(bin(n)[2:])[::-1] and str(n) == str(n)[::-1]:\n",
    "        res = 'Binary only.'\n",
    "    else:\n",
    "        res = 'Neither!'\n",
    "    print(f'palindrome({n}) ➞ {res}')"
   ]
  },
  {
   "cell_type": "code",
   "execution_count": 24,
   "metadata": {},
   "outputs": [
    {
     "name": "stdout",
     "output_type": "stream",
     "text": [
      "palindrome(1306031) ➞ Decimal only.\n"
     ]
    }
   ],
   "source": [
    "palindrome_type(1306031)"
   ]
  },
  {
   "cell_type": "code",
   "execution_count": 25,
   "metadata": {},
   "outputs": [
    {
     "name": "stdout",
     "output_type": "stream",
     "text": [
      "palindrome(427787) ➞ Neither!\n"
     ]
    }
   ],
   "source": [
    "palindrome_type(427787)"
   ]
  },
  {
   "cell_type": "code",
   "execution_count": 26,
   "metadata": {},
   "outputs": [
    {
     "name": "stdout",
     "output_type": "stream",
     "text": [
      "palindrome(313) ➞ Decimal and binary.\n"
     ]
    }
   ],
   "source": [
    "palindrome_type(313)"
   ]
  },
  {
   "cell_type": "code",
   "execution_count": 27,
   "metadata": {},
   "outputs": [
    {
     "name": "stdout",
     "output_type": "stream",
     "text": [
      "palindrome(934) ➞ Neither!\n"
     ]
    }
   ],
   "source": [
    "palindrome_type(934)"
   ]
  }
 ],
 "metadata": {
  "kernelspec": {
   "display_name": "Python 3",
   "language": "python",
   "name": "python3"
  },
  "language_info": {
   "codemirror_mode": {
    "name": "ipython",
    "version": 3
   },
   "file_extension": ".py",
   "mimetype": "text/x-python",
   "name": "python",
   "nbconvert_exporter": "python",
   "pygments_lexer": "ipython3",
   "version": "3.8.3"
  }
 },
 "nbformat": 4,
 "nbformat_minor": 4
}
