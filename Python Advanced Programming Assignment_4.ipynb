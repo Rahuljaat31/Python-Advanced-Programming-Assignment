{
 "cells": [
  {
   "attachments": {
    "q1a4.jpg": {
     "image/jpeg": "[encoded data removed]"
    }
   },
   "cell_type": "markdown",
   "metadata": {},
   "source": [
    "Q1. In mathematics, the Fibonacci numbers, commonly denoted Fn, form a sequence, called the Fibonacci sequence, such that each number is the sum of the two preceding ones, starting from 0 and 1:\n",
    "\n",
    "![q1a4.jpg](attachment:q1a4.jpg)\n",
    "\n",
    "The beginning of the sequence is this:\n",
    "\n",
    "0, 1, 1, 2, 3, 5, 8, 13, 21, 34, 55, 89, 144, ...\n",
    "\n",
    "The function fastFib(num) returns the fibonacci number Fn, of the given num as an argument.\n",
    "\n",
    "Examples\n",
    "\n",
    "fib_fast(5) ➞ 5\n",
    "\n",
    "fib_fast(10) ➞ 55\n",
    "\n",
    "fib_fast(20) ➞ 6765\n",
    "\n",
    "fib_fast(50) ➞ 12586269025"
   ]
  },
  {
   "cell_type": "code",
   "execution_count": 6,
   "metadata": {},
   "outputs": [],
   "source": [
    "#Ans.1 \n",
    "\n",
    "def fib_fast(n):\n",
    "    l = []\n",
    "    for i in range(n+1):\n",
    "        if i in [0,1]:\n",
    "            l.append(i)\n",
    "        else:\n",
    "            l.append(l[-1]+l[-2])\n",
    "    print(f'fib_fast_one({n}) ➞ {l[-1]}')"
   ]
  },
  {
   "cell_type": "code",
   "execution_count": 7,
   "metadata": {},
   "outputs": [
    {
     "name": "stdout",
     "output_type": "stream",
     "text": [
      "fib_fast_one(5) ➞ 5\n"
     ]
    }
   ],
   "source": [
    "fib_fast(5)"
   ]
  },
  {
   "cell_type": "code",
   "execution_count": 8,
   "metadata": {},
   "outputs": [
    {
     "name": "stdout",
     "output_type": "stream",
     "text": [
      "fib_fast_one(10) ➞ 55\n"
     ]
    }
   ],
   "source": [
    "fib_fast(10) "
   ]
  },
  {
   "cell_type": "code",
   "execution_count": 9,
   "metadata": {},
   "outputs": [
    {
     "name": "stdout",
     "output_type": "stream",
     "text": [
      "fib_fast_one(20) ➞ 6765\n"
     ]
    }
   ],
   "source": [
    "fib_fast(20) "
   ]
  },
  {
   "cell_type": "code",
   "execution_count": 10,
   "metadata": {},
   "outputs": [
    {
     "name": "stdout",
     "output_type": "stream",
     "text": [
      "fib_fast_one(50) ➞ 12586269025\n"
     ]
    }
   ],
   "source": [
    "fib_fast(50)"
   ]
  },
  {
   "cell_type": "markdown",
   "metadata": {},
   "source": [
    "Q2. Create a function that takes a strings characters as ASCII and returns each characters hexadecimal value as a string.\n",
    "\n",
    "Examples\n",
    "\n",
    "convert_to_hex(\"hello world\") ➞ \"68 65 6c 6c 6f 20 77 6f 72 6c 64\"\n",
    "\n",
    "convert_to_hex(\"Big Boi\") ➞ \"42 69 67 20 42 6f 69\"\n",
    "\n",
    "convert_to_hex(\"Marty Poppinson\") ➞ \"4d 61 72 74 79 20 50 6f 70 70 69 6e 73 6f 6e\""
   ]
  },
  {
   "cell_type": "code",
   "execution_count": 11,
   "metadata": {},
   "outputs": [],
   "source": [
    "#Ans.2 \n",
    "def convert_to_hex(strng):\n",
    "    st = []\n",
    "    for i in strng:\n",
    "        st.append(hex(ord(i))[2:])\n",
    "    print(f'convert_to_hex({strng}) ➞ {\" \".join(st)}')"
   ]
  },
  {
   "cell_type": "code",
   "execution_count": 12,
   "metadata": {},
   "outputs": [
    {
     "name": "stdout",
     "output_type": "stream",
     "text": [
      "convert_to_hex(hello world) ➞ 68 65 6c 6c 6f 20 77 6f 72 6c 64\n"
     ]
    }
   ],
   "source": [
    "convert_to_hex(\"hello world\")"
   ]
  },
  {
   "cell_type": "code",
   "execution_count": 13,
   "metadata": {},
   "outputs": [
    {
     "name": "stdout",
     "output_type": "stream",
     "text": [
      "convert_to_hex(Big Boi) ➞ 42 69 67 20 42 6f 69\n"
     ]
    }
   ],
   "source": [
    "convert_to_hex(\"Big Boi\")"
   ]
  },
  {
   "cell_type": "code",
   "execution_count": 14,
   "metadata": {},
   "outputs": [
    {
     "name": "stdout",
     "output_type": "stream",
     "text": [
      "convert_to_hex(Marty Poppinson) ➞ 4d 61 72 74 79 20 50 6f 70 70 69 6e 73 6f 6e\n"
     ]
    }
   ],
   "source": [
    "convert_to_hex(\"Marty Poppinson\")"
   ]
  },
  {
   "cell_type": "markdown",
   "metadata": {},
   "source": [
    "Q3.Someone has attempted to censor my strings by replacing every vowel with a *, l*k* th*s. Luckily, I've been able to find the vowels that were removed.\n",
    "\n",
    "Given a censored string and a string of the censored vowels, return the original uncensored string.\n",
    "\n",
    "Examples:\n",
    "\n",
    "uncensor(\"Wh*r* d*d my v*w*ls g*?\", \"eeioeo\") ➞ \"Where did my vowels go?\"\n",
    "\n",
    "uncensor(\"abcd\", \"\") ➞ \"abcd\"\n",
    "\n",
    "uncensor(\"*PP*RC*S*\", \"UEAE\") ➞ \"UPPERCASE\""
   ]
  },
  {
   "cell_type": "code",
   "execution_count": 15,
   "metadata": {},
   "outputs": [],
   "source": [
    "#Ans.3 \n",
    "def uncensor(instr,invowel):\n",
    "    w = 0\n",
    "    outstr = ''\n",
    "    for i in instr:\n",
    "        if i == '*':\n",
    "            outstr += invowel[w]\n",
    "            w +=1\n",
    "        else:\n",
    "            outstr += i\n",
    "    print(f'uncensor{instr,invowel} ➞ {outstr}')"
   ]
  },
  {
   "cell_type": "code",
   "execution_count": 16,
   "metadata": {},
   "outputs": [
    {
     "name": "stdout",
     "output_type": "stream",
     "text": [
      "uncensor('Wh*r* d*d my v*w*ls g*?', 'eeioeo') ➞ Where did my vowels go?\n"
     ]
    }
   ],
   "source": [
    "uncensor(\"Wh*r* d*d my v*w*ls g*?\", \"eeioeo\") "
   ]
  },
  {
   "cell_type": "code",
   "execution_count": 17,
   "metadata": {},
   "outputs": [
    {
     "name": "stdout",
     "output_type": "stream",
     "text": [
      "uncensor('abcd', '') ➞ abcd\n"
     ]
    }
   ],
   "source": [
    "uncensor(\"abcd\", \"\")"
   ]
  },
  {
   "cell_type": "code",
   "execution_count": 18,
   "metadata": {},
   "outputs": [
    {
     "name": "stdout",
     "output_type": "stream",
     "text": [
      "uncensor('*PP*RC*S*', 'UEAE') ➞ UPPERCASE\n"
     ]
    }
   ],
   "source": [
    "uncensor(\"*PP*RC*S*\", \"UEAE\")"
   ]
  },
  {
   "cell_type": "markdown",
   "metadata": {},
   "source": [
    "Q4.Write a function that takes an IP address and returns the domain name using PTR DNS records.\n",
    "\n",
    "Examples:\n",
    "\n",
    "get_domain(\"8.8.8.8\") ➞ \"dns.google\"\n",
    "\n",
    "get_domain(\"8.8.4.4\") ➞ \"dns.google\""
   ]
  },
  {
   "cell_type": "code",
   "execution_count": 24,
   "metadata": {},
   "outputs": [],
   "source": [
    "#Ans.4 \n",
    "import socket\n",
    "def get_domain(ip):\n",
    "    domainname = socket.gethostbyaddr(ip)\n",
    "    return domainname[0]"
   ]
  },
  {
   "cell_type": "code",
   "execution_count": 27,
   "metadata": {},
   "outputs": [
    {
     "name": "stdout",
     "output_type": "stream",
     "text": [
      "dns.google\n"
     ]
    }
   ],
   "source": [
    "print(get_domain(\"8.8.8.8\"))"
   ]
  },
  {
   "cell_type": "code",
   "execution_count": 28,
   "metadata": {},
   "outputs": [
    {
     "data": {
      "text/plain": [
       "'dns.google'"
      ]
     },
     "execution_count": 28,
     "metadata": {},
     "output_type": "execute_result"
    }
   ],
   "source": [
    "get_domain(\"8.8.4.4\") "
   ]
  },
  {
   "cell_type": "markdown",
   "metadata": {},
   "source": [
    "Q5.Create a function that takes an integer n and returns the factorial of factorials. See below examples for a better understanding:\n",
    "\n",
    "Examples:\n",
    "\n",
    "     fact_of_fact(4) ➞ 288\n",
    "     \n",
    "     # 4! * 3! * 2! * 1! = 288\n",
    "     \n",
    "     fact_of_fact(5) ➞ 34560\n",
    "     \n",
    "     fact_of_fact(6) ➞ 24883200"
   ]
  },
  {
   "cell_type": "code",
   "execution_count": 30,
   "metadata": {},
   "outputs": [],
   "source": [
    "#Ans.5 \n",
    "\n",
    "def fact_of_fact(num):\n",
    "    def getfactor(n):\n",
    "        if n == 1:\n",
    "            return 1\n",
    "        else:\n",
    "            return n*getfactor(n-1)      \n",
    "    res = 1\n",
    "    for i in range(1,num+1):\n",
    "        res *= getfactor(i)\n",
    "    print(f'fact_of_fact({num}) ➞ {res}')"
   ]
  },
  {
   "cell_type": "code",
   "execution_count": 31,
   "metadata": {},
   "outputs": [
    {
     "name": "stdout",
     "output_type": "stream",
     "text": [
      "fact_of_fact(4) ➞ 288\n"
     ]
    }
   ],
   "source": [
    "fact_of_fact(4)"
   ]
  },
  {
   "cell_type": "code",
   "execution_count": 32,
   "metadata": {},
   "outputs": [
    {
     "name": "stdout",
     "output_type": "stream",
     "text": [
      "fact_of_fact(5) ➞ 34560\n"
     ]
    }
   ],
   "source": [
    "fact_of_fact(5)"
   ]
  },
  {
   "cell_type": "code",
   "execution_count": 33,
   "metadata": {},
   "outputs": [
    {
     "name": "stdout",
     "output_type": "stream",
     "text": [
      "fact_of_fact(6) ➞ 24883200\n"
     ]
    }
   ],
   "source": [
    "fact_of_fact(6) "
   ]
  }
 ],
 "metadata": {
  "kernelspec": {
   "display_name": "Python 3",
   "language": "python",
   "name": "python3"
  },
  "language_info": {
   "codemirror_mode": {
    "name": "ipython",
    "version": 3
   },
   "file_extension": ".py",
   "mimetype": "text/x-python",
   "name": "python",
   "nbconvert_exporter": "python",
   "pygments_lexer": "ipython3",
   "version": "3.8.3"
  }
 },
 "nbformat": 4,
 "nbformat_minor": 4
}
