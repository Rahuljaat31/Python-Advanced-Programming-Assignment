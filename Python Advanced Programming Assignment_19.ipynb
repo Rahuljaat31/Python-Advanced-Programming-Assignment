{
 "cells": [
  {
   "cell_type": "markdown",
   "metadata": {},
   "source": [
    "Q1. Create a checker board generator, which takes as inputs n and 2 elements to generate an n x n checkerboard with those two elements as alternating squares.\n",
    "\n",
    "Examples:\n",
    "\n",
    "checker_board(2, 7, 6) ➞ [\n",
    "  [7, 6],\n",
    "  [6, 7]\n",
    "]\n",
    "\n",
    "checker_board(3, \"A\", \"B\") ➞ [\n",
    "  [\"A\", \"B\", \"A\"],\n",
    "  [\"B\", \"A\", \"B\"],\n",
    "  [\"A\", \"B\", \"A\"]\n",
    "]\n",
    "\n",
    "checker_board(4, \"c\", \"d\") ➞ [\n",
    "  [\"c\", \"d\", \"c\", \"d\"],\n",
    "  [\"d\", \"c\", \"d\", \"c\"],\n",
    "  [\"c\", \"d\", \"c\", \"d\"],\n",
    "  [\"d\", \"c\", \"d\", \"c\"]\n",
    "]\n",
    "\n",
    "checker_board(4, \"c\", \"c\") ➞ \"invalid\""
   ]
  },
  {
   "cell_type": "code",
   "execution_count": 1,
   "metadata": {},
   "outputs": [],
   "source": [
    "#Ans.1\n",
    "def checker_board(s,a,b):\n",
    "    if a != b:\n",
    "        input = [a,b]\n",
    "        res = []\n",
    "        for i in range(s):\n",
    "            res.append([])\n",
    "            for j in range(s):\n",
    "                res[i].append(input[(i+j)%2])\n",
    "    else:\n",
    "        res = 'Invalid'\n",
    "    print(f'checker_board{s,a,b} ➞ {res}')"
   ]
  },
  {
   "cell_type": "code",
   "execution_count": 2,
   "metadata": {},
   "outputs": [
    {
     "name": "stdout",
     "output_type": "stream",
     "text": [
      "checker_board(2, 7, 6) ➞ [[7, 6], [6, 7]]\n"
     ]
    }
   ],
   "source": [
    "checker_board(2, 7, 6)"
   ]
  },
  {
   "cell_type": "code",
   "execution_count": 3,
   "metadata": {},
   "outputs": [
    {
     "name": "stdout",
     "output_type": "stream",
     "text": [
      "checker_board(3, 'A', 'B') ➞ [['A', 'B', 'A'], ['B', 'A', 'B'], ['A', 'B', 'A']]\n"
     ]
    }
   ],
   "source": [
    "checker_board(3, \"A\", \"B\") "
   ]
  },
  {
   "cell_type": "code",
   "execution_count": 4,
   "metadata": {},
   "outputs": [
    {
     "name": "stdout",
     "output_type": "stream",
     "text": [
      "checker_board(4, 'c', 'd') ➞ [['c', 'd', 'c', 'd'], ['d', 'c', 'd', 'c'], ['c', 'd', 'c', 'd'], ['d', 'c', 'd', 'c']]\n"
     ]
    }
   ],
   "source": [
    "checker_board(4, \"c\", \"d\") "
   ]
  },
  {
   "cell_type": "code",
   "execution_count": 5,
   "metadata": {},
   "outputs": [
    {
     "name": "stdout",
     "output_type": "stream",
     "text": [
      "checker_board(4, 'c', 'c') ➞ Invalid\n"
     ]
    }
   ],
   "source": [
    "checker_board(4, \"c\", \"c\") "
   ]
  },
  {
   "cell_type": "markdown",
   "metadata": {},
   "source": [
    "Q2. A string is an almost-palindrome if, by changing only one character, you can make it a palindrome. Create a function that returns True if a string is an almost-palindrome and False otherwise.\n",
    "\n",
    "Examples:\n",
    "\n",
    "    almost_palindrome(\"abcdcbg\") ➞ True\n",
    "    # Transformed to \"abcdcba\" by changing \"g\" to \"a\".\n",
    "    almost_palindrome(\"abccia\") ➞ True\n",
    "    # Transformed to \"abccba\" by changing \"i\" to \"b\".\n",
    "    almost_palindrome(\"abcdaaa\") ➞ False\n",
    "    # Can't be transformed to a palindrome in exactly 1 turn.\n",
    "    almost_palindrome(\"1234312\") ➞ False"
   ]
  },
  {
   "cell_type": "code",
   "execution_count": 6,
   "metadata": {},
   "outputs": [],
   "source": [
    "#Ans.2\n",
    "def almost_palindrome(s):\n",
    "    sr = s[::-1]\n",
    "    c = 0\n",
    "    for i in range(len(s)):\n",
    "        if s[i] != sr[i]:\n",
    "            c +=1\n",
    "    res = True if c == 2 else False\n",
    "    print(f'almost_palindrome({s}) ➞ {res}')"
   ]
  },
  {
   "cell_type": "code",
   "execution_count": 7,
   "metadata": {},
   "outputs": [
    {
     "name": "stdout",
     "output_type": "stream",
     "text": [
      "almost_palindrome(abcdcbg) ➞ True\n"
     ]
    }
   ],
   "source": [
    "almost_palindrome(\"abcdcbg\")"
   ]
  },
  {
   "cell_type": "code",
   "execution_count": 8,
   "metadata": {},
   "outputs": [
    {
     "name": "stdout",
     "output_type": "stream",
     "text": [
      "almost_palindrome(abccia) ➞ True\n"
     ]
    }
   ],
   "source": [
    "almost_palindrome(\"abccia\")"
   ]
  },
  {
   "cell_type": "code",
   "execution_count": 9,
   "metadata": {},
   "outputs": [
    {
     "name": "stdout",
     "output_type": "stream",
     "text": [
      "almost_palindrome(abcdaaa) ➞ False\n"
     ]
    }
   ],
   "source": [
    "almost_palindrome(\"abcdaaa\")"
   ]
  },
  {
   "cell_type": "code",
   "execution_count": 10,
   "metadata": {},
   "outputs": [
    {
     "name": "stdout",
     "output_type": "stream",
     "text": [
      "almost_palindrome(1234312) ➞ False\n"
     ]
    }
   ],
   "source": [
    "almost_palindrome(\"1234312\")"
   ]
  },
  {
   "cell_type": "markdown",
   "metadata": {},
   "source": [
    "Q3. Create a function that finds how many prime numbers there are, up to the\n",
    "given integer.\n",
    "\n",
    "    Examples\n",
    "    prime_numbers(10) ➞ 4\n",
    "    # 2, 3, 5 and 7\n",
    "    prime_numbers(20) ➞ 8\n",
    "    # 2, 3, 5, 7, 11, 13, 17 and 19\n",
    "    prime_numbers(30) ➞ 10\n",
    "    # 2, 3, 5, 7, 11, 13, 17, 19, 23 and 29"
   ]
  },
  {
   "cell_type": "code",
   "execution_count": 11,
   "metadata": {},
   "outputs": [],
   "source": [
    "#Ans.3\n",
    "def prime_numbers(n):\n",
    "    res = 0\n",
    "    l = [2,3]\n",
    "    for i in range(1,n+1):\n",
    "        if i <= 3 and i > 0:\n",
    "            res = 2 if i==3 else 1 if i ==2 else 0\n",
    "        elif i > 3 and (((i-1)%6 == 0) or ((i+1)%6 == 0)):\n",
    "            res +=1\n",
    "            l.append(i)    \n",
    "    for j in l:\n",
    "        for h in l:\n",
    "            if j != h:\n",
    "                if j%h == 0:\n",
    "                    res -= 1\n",
    "    print(f'prime_numbers({n}) ➞ {res}')"
   ]
  },
  {
   "cell_type": "code",
   "execution_count": 12,
   "metadata": {},
   "outputs": [
    {
     "name": "stdout",
     "output_type": "stream",
     "text": [
      "prime_numbers(10) ➞ 4\n"
     ]
    }
   ],
   "source": [
    "prime_numbers(10)"
   ]
  },
  {
   "cell_type": "code",
   "execution_count": 13,
   "metadata": {},
   "outputs": [
    {
     "name": "stdout",
     "output_type": "stream",
     "text": [
      "prime_numbers(20) ➞ 8\n"
     ]
    }
   ],
   "source": [
    "prime_numbers(20)"
   ]
  },
  {
   "cell_type": "code",
   "execution_count": 14,
   "metadata": {},
   "outputs": [
    {
     "name": "stdout",
     "output_type": "stream",
     "text": [
      "prime_numbers(30) ➞ 10\n"
     ]
    }
   ],
   "source": [
    "prime_numbers(30)"
   ]
  },
  {
   "cell_type": "markdown",
   "metadata": {},
   "source": [
    "Q4. If today was Monday, in two days, it would be Wednesday. Create a function that takes in a list of days as input and the number of days to increment by. Return a list of days after n number of days has passed.\n",
    "\n",
    "Examples:\n",
    "\n",
    "after_n_days([\"Thursday\", \"Monday\"], 4) ➞ [\"Monday\", \"Friday\"]\n",
    "\n",
    "after_n_days([\"Sunday\", \"Sunday\", \"Sunday\"], 1) ➞ [\"Monday\", \"Monday\", \"Monday\"]\n",
    "\n",
    "after_n_days([\"Monday\", \"Tuesday\", \"Friday\"], 1) ➞ [\"Tuesday\", \"Wednesday\", \"Saturday\"]"
   ]
  },
  {
   "cell_type": "code",
   "execution_count": 15,
   "metadata": {},
   "outputs": [],
   "source": [
    "#Ans.4 \n",
    "def after_n_days(l,n):\n",
    "    w = {0:'Sunday',1:'Monday',2:'Tuesday',3:'Wednesday',4:'Thursday',5:'Friday',6:'Saturday'}\n",
    "    wd = list(w.keys())\n",
    "    wn = list(w.values())\n",
    "    res = []\n",
    "    for i in l:\n",
    "        res.append(w[(wn.index(i)+n)%7])\n",
    "    print(f'after_n_days{l,n} ➞ {res}')"
   ]
  },
  {
   "cell_type": "code",
   "execution_count": 16,
   "metadata": {},
   "outputs": [
    {
     "name": "stdout",
     "output_type": "stream",
     "text": [
      "after_n_days(['Thursday', 'Monday'], 4) ➞ ['Monday', 'Friday']\n"
     ]
    }
   ],
   "source": [
    "after_n_days([\"Thursday\", \"Monday\"], 4) "
   ]
  },
  {
   "cell_type": "code",
   "execution_count": 17,
   "metadata": {},
   "outputs": [
    {
     "name": "stdout",
     "output_type": "stream",
     "text": [
      "after_n_days(['Sunday', 'Sunday', 'Sunday'], 1) ➞ ['Monday', 'Monday', 'Monday']\n"
     ]
    }
   ],
   "source": [
    "after_n_days([\"Sunday\", \"Sunday\", \"Sunday\"], 1)"
   ]
  },
  {
   "cell_type": "code",
   "execution_count": 18,
   "metadata": {},
   "outputs": [
    {
     "name": "stdout",
     "output_type": "stream",
     "text": [
      "after_n_days(['Monday', 'Tuesday', 'Friday'], 1) ➞ ['Tuesday', 'Wednesday', 'Saturday']\n"
     ]
    }
   ],
   "source": [
    "after_n_days([\"Monday\", \"Tuesday\", \"Friday\"], 1) "
   ]
  },
  {
   "cell_type": "markdown",
   "metadata": {},
   "source": [
    "Q5. You are in the process of creating a chat application and want to add an anonymous name feature. This anonymous name feature will create an alias that consists of two capitalized words beginning with the same letter as the users first name.\n",
    "Create a function that determines if the list of users is mapped to a list of anonymous names correctly.\n",
    "\n",
    "Examples:\n",
    "\n",
    "    is_correct_aliases([\"Adrian M.\", \"Harriet S.\", \"Mandy T.\"], [\"Amazing Artichoke\", \"Hopeful Hedgehog\", \"Marvelous Mouse\"]) ➞     True\n",
    "\n",
    "    is_correct_aliases([\"Rachel F.\", \"Pam G.\", \"Fred Z.\", \"Nancy K.\"], [\"Reassuring Rat\", \"Peaceful Panda\", \"Fantastic Frog\",       \"Notable Nickel\"]) ➞ True\n",
    "\n",
    "    is_correct_aliases([\"Beth T.\"], [\"Brandishing Mimosa\"]) ➞ False\n",
    "\n",
    "    # Both words in \"Brandishing Mimosa\" should begin with a \"B\" - \"Brandishing Beaver\" would do the trick."
   ]
  },
  {
   "cell_type": "code",
   "execution_count": 22,
   "metadata": {},
   "outputs": [],
   "source": [
    "#Ans.5\n",
    "def is_correct_aliases(a, b):\n",
    "    res = False\n",
    "    if len(a) == len(b):\n",
    "        for i in range(len(a)):\n",
    "            if a[i].split(\" \")[0][0] == b[i].split(\" \")[0][0] == b[i].split(\" \")[1][0]:\n",
    "                res = True\n",
    "            else:\n",
    "                res = False\n",
    "                break\n",
    "    print(f'is_correct_aliases{a,b}➞{res}')"
   ]
  },
  {
   "cell_type": "code",
   "execution_count": 23,
   "metadata": {},
   "outputs": [
    {
     "name": "stdout",
     "output_type": "stream",
     "text": [
      "is_correct_aliases(['Beth T.'], ['Brandishing Mimosa'])➞False\n"
     ]
    }
   ],
   "source": [
    "is_correct_aliases([\"Beth T.\"],[\"Brandishing Mimosa\"])"
   ]
  },
  {
   "cell_type": "code",
   "execution_count": 24,
   "metadata": {},
   "outputs": [
    {
     "name": "stdout",
     "output_type": "stream",
     "text": [
      "is_correct_aliases(['Adrian M.', 'Harriet S.', 'Mandy T.'], ['Amazing Artichoke', 'Hopeful Hedgehog', 'Marvelous Mouse'])➞True\n"
     ]
    }
   ],
   "source": [
    "is_correct_aliases([\"Adrian M.\",\"Harriet S.\",\"Mandy T.\"], [\"Amazing Artichoke\", \"Hopeful Hedgehog\", \"Marvelous Mouse\"])"
   ]
  },
  {
   "cell_type": "code",
   "execution_count": 25,
   "metadata": {},
   "outputs": [
    {
     "name": "stdout",
     "output_type": "stream",
     "text": [
      "is_correct_aliases(['Adrian M.', 'Harriet S.', 'Mandy T.'], ['Amazing Artichoke', 'Hopeful Hedgehog', 'Marvelous Mouse'])➞True\n"
     ]
    }
   ],
   "source": [
    "is_correct_aliases([\"Adrian M.\",\"Harriet S.\",\"Mandy T.\"], [\"Amazing Artichoke\", \"Hopeful Hedgehog\", \"Marvelous Mouse\"])"
   ]
  }
 ],
 "metadata": {
  "kernelspec": {
   "display_name": "Python 3",
   "language": "python",
   "name": "python3"
  },
  "language_info": {
   "codemirror_mode": {
    "name": "ipython",
    "version": 3
   },
   "file_extension": ".py",
   "mimetype": "text/x-python",
   "name": "python",
   "nbconvert_exporter": "python",
   "pygments_lexer": "ipython3",
   "version": "3.8.3"
  }
 },
 "nbformat": 4,
 "nbformat_minor": 4
}
