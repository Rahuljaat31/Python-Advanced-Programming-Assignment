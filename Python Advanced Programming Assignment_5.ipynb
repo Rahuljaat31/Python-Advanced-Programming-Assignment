{
 "cells": [
  {
   "cell_type": "markdown",
   "metadata": {},
   "source": [
    "Q1.Create a function that takes a number n (integer greater than zero) as an argument, and returns 2 if n is odd and 8 if n is even.\n",
    "\n",
    "You can only use the following arithmetic operators:\n",
    "\n",
    "addition of numbers +, \n",
    "\n",
    "subtraction of numbers -, \n",
    "\n",
    "multiplication of number *, \n",
    "\n",
    "division of number /, \n",
    "\n",
    "and exponentiation **.\n",
    "\n",
    "You are not allowed to use any other methods in this challenge (i.e. no if statements, comparison operators, etc).\n",
    "\n",
    "Examples:\n",
    "\n",
    "f(1) ➞ 2\n",
    "\n",
    "f(2) ➞ 8\n",
    "\n",
    "f(3) ➞ 2"
   ]
  },
  {
   "cell_type": "code",
   "execution_count": 1,
   "metadata": {},
   "outputs": [],
   "source": [
    "#Ans.1 \n",
    "def f(n):\n",
    "    r = [8,2]\n",
    "    print(f'f({n})➞ {r[n&1]}')"
   ]
  },
  {
   "cell_type": "code",
   "execution_count": 2,
   "metadata": {},
   "outputs": [
    {
     "name": "stdout",
     "output_type": "stream",
     "text": [
      "f(1)➞ 2\n"
     ]
    }
   ],
   "source": [
    "f(1)"
   ]
  },
  {
   "cell_type": "code",
   "execution_count": 3,
   "metadata": {},
   "outputs": [
    {
     "name": "stdout",
     "output_type": "stream",
     "text": [
      "f(2)➞ 8\n"
     ]
    }
   ],
   "source": [
    "f(2) "
   ]
  },
  {
   "cell_type": "code",
   "execution_count": 4,
   "metadata": {},
   "outputs": [
    {
     "name": "stdout",
     "output_type": "stream",
     "text": [
      "f(3)➞ 2\n"
     ]
    }
   ],
   "source": [
    "f(3)"
   ]
  },
  {
   "cell_type": "markdown",
   "metadata": {},
   "source": [
    "Q2.Create a function that returns the majority vote in a list. A majority vote is an element that occurs > N/2 times in a list (where N is the length of the list).\n",
    "\n",
    "Examples:\n",
    "\n",
    "majority_vote([\"A\", \"A\", \"B\"]) ➞ \"A\"\n",
    "\n",
    "majority_vote([\"A\", \"A\", \"A\", \"B\", \"C\", \"A\"]) ➞ \"A\"\n",
    "\n",
    "majority_vote([\"A\", \"B\", \"B\", \"A\", \"C\", \"C\"]) ➞ None"
   ]
  },
  {
   "cell_type": "code",
   "execution_count": 5,
   "metadata": {},
   "outputs": [],
   "source": [
    "#Ans.2 \n",
    "def majority_vote(n):\n",
    "    r = None\n",
    "    for i in set(n):\n",
    "        if n.count(i) > (len(n)/2):\n",
    "            r = i\n",
    "    print(f'majority_vote({n}) ➞ {r}')"
   ]
  },
  {
   "cell_type": "code",
   "execution_count": 6,
   "metadata": {},
   "outputs": [
    {
     "name": "stdout",
     "output_type": "stream",
     "text": [
      "majority_vote(['A', 'A', 'B']) ➞ A\n"
     ]
    }
   ],
   "source": [
    "majority_vote([\"A\", \"A\", \"B\"])"
   ]
  },
  {
   "cell_type": "code",
   "execution_count": 7,
   "metadata": {},
   "outputs": [
    {
     "name": "stdout",
     "output_type": "stream",
     "text": [
      "majority_vote(['A', 'A', 'A', 'B', 'C', 'A']) ➞ A\n"
     ]
    }
   ],
   "source": [
    "majority_vote([\"A\", \"A\", \"A\", \"B\", \"C\", \"A\"])"
   ]
  },
  {
   "cell_type": "code",
   "execution_count": 8,
   "metadata": {},
   "outputs": [
    {
     "name": "stdout",
     "output_type": "stream",
     "text": [
      "majority_vote(['A', 'B', 'B', 'A', 'C', 'C']) ➞ None\n"
     ]
    }
   ],
   "source": [
    "majority_vote([\"A\", \"B\", \"B\", \"A\", \"C\", \"C\"])"
   ]
  },
  {
   "cell_type": "markdown",
   "metadata": {},
   "source": [
    "Q3.Create a function that takes a string txt and censors any word from a given list lst. The text removed must be replaced by the given character char.\n",
    "\n",
    "Examples:\n",
    "\n",
    "censor_string(\"Today is a Wednesday!\", [\"Today\", \"a\"], \"-\") ➞ \"----- is - Wednesday!\"\n",
    "\n",
    "censor_string(\"The cow jumped over the moon.\", [\"cow\", \"over\"], \"*\"), \"The *** jumped **** the moon.\")\n",
    "\n",
    "censor_string(\"Why did the chicken cross the road ?\", [\"Did\", \"chicken\", \"road\"], \"*\") ➞ \"Why *** the ******* cross the ****?\""
   ]
  },
  {
   "cell_type": "code",
   "execution_count": 9,
   "metadata": {},
   "outputs": [],
   "source": [
    "#Ans.3 \n",
    "def censor_string(a, b, r):\n",
    "    res = []\n",
    "    for i in a.split():\n",
    "        if i.title() in b or i.lower() in b or i.upper() in b:\n",
    "            res.append(r*len(i))\n",
    "        else:\n",
    "            res.append(i)\n",
    "    print(f'censor_string({a}) ➞ {\" \".join(res)}')"
   ]
  },
  {
   "cell_type": "code",
   "execution_count": 10,
   "metadata": {},
   "outputs": [
    {
     "name": "stdout",
     "output_type": "stream",
     "text": [
      "censor_string(Today is a Wednesday!) ➞ ----- is - Wednesday!\n"
     ]
    }
   ],
   "source": [
    "censor_string(\"Today is a Wednesday!\", [\"Today\", \"a\"], \"-\") "
   ]
  },
  {
   "cell_type": "code",
   "execution_count": 12,
   "metadata": {},
   "outputs": [
    {
     "name": "stdout",
     "output_type": "stream",
     "text": [
      "censor_string(The cow jumped over the moon.) ➞ The *** jumped **** the moon.\n"
     ]
    }
   ],
   "source": [
    "censor_string(\"The cow jumped over the moon.\", [\"cow\", \"over\"], \"*\")"
   ]
  },
  {
   "cell_type": "code",
   "execution_count": 13,
   "metadata": {},
   "outputs": [
    {
     "name": "stdout",
     "output_type": "stream",
     "text": [
      "censor_string(Why did the chicken cross the road ?) ➞ Why *** the ******* cross the **** ?\n"
     ]
    }
   ],
   "source": [
    "censor_string(\"Why did the chicken cross the road ?\", [\"Did\", \"chicken\", \"road\"], \"*\")"
   ]
  },
  {
   "cell_type": "markdown",
   "metadata": {},
   "source": [
    "Q4.In mathematics a Polydivisible Number (or magic number) is a number in a given number base with digits abcde... that has the following properties:\n",
    "\n",
    "Its first digit a is not 0.\n",
    "\n",
    "The number formed by its first two digits ab is a multiple of 2.\n",
    "\n",
    "The number formed by its first three digits abc is a multiple of 3.\n",
    "\n",
    "The number formed by its first four digits abcd is a multiple of 4. Create a function which takes an integer n and returns True if the given number is a Polydivisible Number and False otherwise.\n",
    "Examples:\n",
    "\n",
    "is_polydivisible(1232) ➞ True\n",
    "\n",
    "     # 1     / 1 = 1\n",
    "     \n",
    "     # 12    / 2 = 6\n",
    "     \n",
    "     # 123   / 3 = 41\n",
    "     \n",
    "     # 1232  / 4 = 308\n",
    "     \n",
    "is_polydivisible(123220 ) ➞ False\n",
    "\n",
    "     # 1   / 1 = 1\n",
    "     \n",
    "     # 12   / 2 = 6\n",
    "     \n",
    "     # 123   / 3 = 41\n",
    "     \n",
    "     # 1232   / 4 = 308\n",
    "     \n",
    "     # 12322   / 5 = 2464.4         # Not a Whole Number\n",
    "     \n",
    "     # 123220   /6 = 220536.333...  # Not a Whole Number"
   ]
  },
  {
   "cell_type": "code",
   "execution_count": 17,
   "metadata": {},
   "outputs": [],
   "source": [
    "#Ans.4\n",
    "def is_polydivisible(n):\n",
    "    res = False\n",
    "    t = str(n)\n",
    "    for i in range(len(t)):\n",
    "        if(int(t[:i+1])%(i+1) == 0):\n",
    "            res = True\n",
    "        else:\n",
    "            res = False\n",
    "            break\n",
    "    print(f'is_polydivisible({n}) ➞ {res}')"
   ]
  },
  {
   "cell_type": "code",
   "execution_count": 18,
   "metadata": {},
   "outputs": [
    {
     "name": "stdout",
     "output_type": "stream",
     "text": [
      "is_polydivisible(1232) ➞ True\n"
     ]
    }
   ],
   "source": [
    "is_polydivisible(1232)"
   ]
  },
  {
   "cell_type": "code",
   "execution_count": 19,
   "metadata": {},
   "outputs": [
    {
     "name": "stdout",
     "output_type": "stream",
     "text": [
      "is_polydivisible(123220) ➞ False\n"
     ]
    }
   ],
   "source": [
    "is_polydivisible(123220 )"
   ]
  },
  {
   "cell_type": "markdown",
   "metadata": {},
   "source": [
    "Q5. Create a function that takes a list of numbers and returns the sum of all prime numbers in the list.\n",
    "Examples:\n",
    "\n",
    "sum_primes([1, 2, 3, 4, 5, 6, 7, 8, 9, 10]) ➞ 17\n",
    "\n",
    "sum_primes([2, 3, 4, 11, 20, 50, 71]) ➞ 87\n",
    "\n",
    "sum_primes([]) ➞ None"
   ]
  },
  {
   "cell_type": "code",
   "execution_count": 30,
   "metadata": {},
   "outputs": [],
   "source": [
    "#Ans.5\n",
    "def sum_primes(a):\n",
    "    res = []\n",
    "    for i in a:\n",
    "        if i in [2,3]:\n",
    "            res.append(i)\n",
    "        elif i in [6*n-1 for n in range(0,i)] or i in [6*n+1 for n in range(0,i)]:\n",
    "            res.append(i)\n",
    "    if 1 in res:\n",
    "        res.remove(1)\n",
    "    print(f'sum_prices({a}) ➞ {sum(res) if len(res) > 0 else None}')"
   ]
  },
  {
   "cell_type": "code",
   "execution_count": 31,
   "metadata": {},
   "outputs": [
    {
     "name": "stdout",
     "output_type": "stream",
     "text": [
      "sum_prices([1, 2, 3, 4, 5, 6, 7, 8, 9, 10]) ➞ 17\n"
     ]
    }
   ],
   "source": [
    "sum_primes([1, 2, 3, 4, 5, 6, 7, 8, 9, 10])"
   ]
  },
  {
   "cell_type": "code",
   "execution_count": 32,
   "metadata": {},
   "outputs": [
    {
     "name": "stdout",
     "output_type": "stream",
     "text": [
      "sum_prices([2, 3, 4, 11, 20, 50, 71]) ➞ 87\n"
     ]
    }
   ],
   "source": [
    "sum_primes([2, 3, 4, 11, 20, 50, 71])"
   ]
  },
  {
   "cell_type": "code",
   "execution_count": 33,
   "metadata": {},
   "outputs": [
    {
     "name": "stdout",
     "output_type": "stream",
     "text": [
      "sum_prices([]) ➞ None\n"
     ]
    }
   ],
   "source": [
    "sum_primes([]) "
   ]
  }
 ],
 "metadata": {
  "kernelspec": {
   "display_name": "Python 3",
   "language": "python",
   "name": "python3"
  },
  "language_info": {
   "codemirror_mode": {
    "name": "ipython",
    "version": 3
   },
   "file_extension": ".py",
   "mimetype": "text/x-python",
   "name": "python",
   "nbconvert_exporter": "python",
   "pygments_lexer": "ipython3",
   "version": "3.8.3"
  }
 },
 "nbformat": 4,
 "nbformat_minor": 4
}
